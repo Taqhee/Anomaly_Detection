{
 "cells": [
  {
   "cell_type": "markdown",
   "metadata": {},
   "source": [
    "## Data Wrangling"
   ]
  },
  {
   "cell_type": "code",
   "execution_count": 1,
   "metadata": {
    "collapsed": true
   },
   "outputs": [],
   "source": [
    "import pandas as pd\n",
    "import numpy as np\n",
    "import matplotlib.pyplot as plt\n",
    "import seaborn as sns\n",
    "from IPython.display import display\n",
    "%matplotlib inline"
   ]
  },
  {
   "cell_type": "code",
   "execution_count": 2,
   "metadata": {
    "collapsed": false
   },
   "outputs": [
    {
     "data": {
      "text/html": [
       "<div>\n",
       "<style>\n",
       "    .dataframe thead tr:only-child th {\n",
       "        text-align: right;\n",
       "    }\n",
       "\n",
       "    .dataframe thead th {\n",
       "        text-align: left;\n",
       "    }\n",
       "\n",
       "    .dataframe tbody tr th {\n",
       "        vertical-align: top;\n",
       "    }\n",
       "</style>\n",
       "<table border=\"1\" class=\"dataframe\">\n",
       "  <thead>\n",
       "    <tr style=\"text-align: right;\">\n",
       "      <th></th>\n",
       "      <th>0</th>\n",
       "      <th>1</th>\n",
       "      <th>2</th>\n",
       "      <th>3</th>\n",
       "      <th>4</th>\n",
       "      <th>5</th>\n",
       "      <th>6</th>\n",
       "      <th>7</th>\n",
       "      <th>8</th>\n",
       "      <th>9</th>\n",
       "      <th>...</th>\n",
       "      <th>55</th>\n",
       "      <th>56</th>\n",
       "      <th>57</th>\n",
       "      <th>58</th>\n",
       "      <th>59</th>\n",
       "      <th>60</th>\n",
       "      <th>61</th>\n",
       "      <th>62</th>\n",
       "      <th>63</th>\n",
       "      <th>64</th>\n",
       "    </tr>\n",
       "  </thead>\n",
       "  <tbody>\n",
       "    <tr>\n",
       "      <th>0</th>\n",
       "      <td>0.20055</td>\n",
       "      <td>0.37951</td>\n",
       "      <td>0.39641</td>\n",
       "      <td>2.0472</td>\n",
       "      <td>32.351</td>\n",
       "      <td>0.38825</td>\n",
       "      <td>0.24976</td>\n",
       "      <td>1.3305</td>\n",
       "      <td>1.1389</td>\n",
       "      <td>0.50494</td>\n",
       "      <td>...</td>\n",
       "      <td>0.121960</td>\n",
       "      <td>0.39718</td>\n",
       "      <td>0.87804</td>\n",
       "      <td>0.001924</td>\n",
       "      <td>8.416</td>\n",
       "      <td>5.1372</td>\n",
       "      <td>82.658</td>\n",
       "      <td>4.4158</td>\n",
       "      <td>7.4277</td>\n",
       "      <td>0</td>\n",
       "    </tr>\n",
       "    <tr>\n",
       "      <th>1</th>\n",
       "      <td>0.20912</td>\n",
       "      <td>0.49988</td>\n",
       "      <td>0.47225</td>\n",
       "      <td>1.9447</td>\n",
       "      <td>14.786</td>\n",
       "      <td>0</td>\n",
       "      <td>0.25834</td>\n",
       "      <td>0.99601</td>\n",
       "      <td>1.6996</td>\n",
       "      <td>0.49788</td>\n",
       "      <td>...</td>\n",
       "      <td>0.121300</td>\n",
       "      <td>0.42002</td>\n",
       "      <td>0.85300</td>\n",
       "      <td>0</td>\n",
       "      <td>4.1486</td>\n",
       "      <td>3.2732</td>\n",
       "      <td>107.350</td>\n",
       "      <td>3.4</td>\n",
       "      <td>60.987</td>\n",
       "      <td>0</td>\n",
       "    </tr>\n",
       "    <tr>\n",
       "      <th>2</th>\n",
       "      <td>0.24866</td>\n",
       "      <td>0.69592</td>\n",
       "      <td>0.26713</td>\n",
       "      <td>1.5548</td>\n",
       "      <td>-1.1523</td>\n",
       "      <td>0</td>\n",
       "      <td>0.30906</td>\n",
       "      <td>0.43695</td>\n",
       "      <td>1.309</td>\n",
       "      <td>0.30408</td>\n",
       "      <td>...</td>\n",
       "      <td>0.241140</td>\n",
       "      <td>0.81774</td>\n",
       "      <td>0.76599</td>\n",
       "      <td>0.69484</td>\n",
       "      <td>4.9909</td>\n",
       "      <td>3.951</td>\n",
       "      <td>134.270</td>\n",
       "      <td>2.7185</td>\n",
       "      <td>5.2078</td>\n",
       "      <td>0</td>\n",
       "    </tr>\n",
       "    <tr>\n",
       "      <th>3</th>\n",
       "      <td>0.081483</td>\n",
       "      <td>0.30734</td>\n",
       "      <td>0.45879</td>\n",
       "      <td>2.4928</td>\n",
       "      <td>51.952</td>\n",
       "      <td>0.14988</td>\n",
       "      <td>0.092704</td>\n",
       "      <td>1.8661</td>\n",
       "      <td>1.0571</td>\n",
       "      <td>0.57353</td>\n",
       "      <td>...</td>\n",
       "      <td>0.054015</td>\n",
       "      <td>0.14207</td>\n",
       "      <td>0.94598</td>\n",
       "      <td>0</td>\n",
       "      <td>4.5746</td>\n",
       "      <td>3.6147</td>\n",
       "      <td>86.435</td>\n",
       "      <td>4.2228</td>\n",
       "      <td>5.5497</td>\n",
       "      <td>0</td>\n",
       "    </tr>\n",
       "    <tr>\n",
       "      <th>4</th>\n",
       "      <td>0.18732</td>\n",
       "      <td>0.61323</td>\n",
       "      <td>0.2296</td>\n",
       "      <td>1.4063</td>\n",
       "      <td>-7.3128</td>\n",
       "      <td>0.18732</td>\n",
       "      <td>0.18732</td>\n",
       "      <td>0.6307</td>\n",
       "      <td>1.1559</td>\n",
       "      <td>0.38677</td>\n",
       "      <td>...</td>\n",
       "      <td>0.134850</td>\n",
       "      <td>0.48431</td>\n",
       "      <td>0.86515</td>\n",
       "      <td>0.12444</td>\n",
       "      <td>6.3985</td>\n",
       "      <td>4.3158</td>\n",
       "      <td>127.210</td>\n",
       "      <td>2.8692</td>\n",
       "      <td>7.898</td>\n",
       "      <td>0</td>\n",
       "    </tr>\n",
       "  </tbody>\n",
       "</table>\n",
       "<p>5 rows × 65 columns</p>\n",
       "</div>"
      ],
      "text/plain": [
       "         0        1        2       3        4        5         6        7   \\\n",
       "0   0.20055  0.37951  0.39641  2.0472   32.351  0.38825   0.24976   1.3305   \n",
       "1   0.20912  0.49988  0.47225  1.9447   14.786        0   0.25834  0.99601   \n",
       "2   0.24866  0.69592  0.26713  1.5548  -1.1523        0   0.30906  0.43695   \n",
       "3  0.081483  0.30734  0.45879  2.4928   51.952  0.14988  0.092704   1.8661   \n",
       "4   0.18732  0.61323   0.2296  1.4063  -7.3128  0.18732   0.18732   0.6307   \n",
       "\n",
       "       8        9  ...        55       56       57        58      59      60  \\\n",
       "0  1.1389  0.50494 ...  0.121960  0.39718  0.87804  0.001924   8.416  5.1372   \n",
       "1  1.6996  0.49788 ...  0.121300  0.42002  0.85300         0  4.1486  3.2732   \n",
       "2   1.309  0.30408 ...  0.241140  0.81774  0.76599   0.69484  4.9909   3.951   \n",
       "3  1.0571  0.57353 ...  0.054015  0.14207  0.94598         0  4.5746  3.6147   \n",
       "4  1.1559  0.38677 ...  0.134850  0.48431  0.86515   0.12444  6.3985  4.3158   \n",
       "\n",
       "        61      62      63  64  \n",
       "0   82.658  4.4158  7.4277   0  \n",
       "1  107.350     3.4  60.987   0  \n",
       "2  134.270  2.7185  5.2078   0  \n",
       "3   86.435  4.2228  5.5497   0  \n",
       "4  127.210  2.8692   7.898   0  \n",
       "\n",
       "[5 rows x 65 columns]"
      ]
     },
     "execution_count": 2,
     "metadata": {},
     "output_type": "execute_result"
    }
   ],
   "source": [
    "df = pd.read_csv('../data/1year.arff.csv', header=None)\n",
    "df.head()"
   ]
  },
  {
   "cell_type": "code",
   "execution_count": 3,
   "metadata": {
    "collapsed": false
   },
   "outputs": [
    {
     "name": "stdout",
     "output_type": "stream",
     "text": [
      "RangeIndex(start=0, stop=7027, step=1)\n"
     ]
    }
   ],
   "source": [
    "print df.index"
   ]
  },
  {
   "cell_type": "code",
   "execution_count": 4,
   "metadata": {
    "collapsed": false
   },
   "outputs": [
    {
     "name": "stdout",
     "output_type": "stream",
     "text": [
      "0      object\n",
      "1      object\n",
      "2      object\n",
      "3      object\n",
      "4      object\n",
      "5      object\n",
      "6      object\n",
      "7      object\n",
      "8      object\n",
      "9      object\n",
      "10     object\n",
      "11     object\n",
      "12    float64\n",
      "13     object\n",
      "14     object\n",
      "15     object\n",
      "16     object\n",
      "17     object\n",
      "18    float64\n",
      "19    float64\n",
      "20     object\n",
      "21     object\n",
      "22    float64\n",
      "23     object\n",
      "24     object\n",
      "25     object\n",
      "26     object\n",
      "27     object\n",
      "28     object\n",
      "29    float64\n",
      "       ...   \n",
      "35     object\n",
      "36     object\n",
      "37     object\n",
      "38    float64\n",
      "39     object\n",
      "40     object\n",
      "41    float64\n",
      "42    float64\n",
      "43    float64\n",
      "44     object\n",
      "45     object\n",
      "46     object\n",
      "47     object\n",
      "48    float64\n",
      "49     object\n",
      "50     object\n",
      "51     object\n",
      "52     object\n",
      "53     object\n",
      "54    float64\n",
      "55    float64\n",
      "56     object\n",
      "57    float64\n",
      "58     object\n",
      "59     object\n",
      "60     object\n",
      "61    float64\n",
      "62     object\n",
      "63     object\n",
      "64      int64\n",
      "Length: 65, dtype: object\n",
      "0     float64\n",
      "1     float64\n",
      "2     float64\n",
      "3     float64\n",
      "4     float64\n",
      "5     float64\n",
      "6     float64\n",
      "7     float64\n",
      "8     float64\n",
      "9     float64\n",
      "10    float64\n",
      "11    float64\n",
      "12    float64\n",
      "13    float64\n",
      "14    float64\n",
      "15    float64\n",
      "16    float64\n",
      "17    float64\n",
      "18    float64\n",
      "19    float64\n",
      "20    float64\n",
      "21    float64\n",
      "22    float64\n",
      "23    float64\n",
      "24    float64\n",
      "25    float64\n",
      "26    float64\n",
      "27    float64\n",
      "28    float64\n",
      "29    float64\n",
      "       ...   \n",
      "35    float64\n",
      "36    float64\n",
      "37    float64\n",
      "38    float64\n",
      "39    float64\n",
      "40    float64\n",
      "41    float64\n",
      "42    float64\n",
      "43    float64\n",
      "44    float64\n",
      "45    float64\n",
      "46    float64\n",
      "47    float64\n",
      "48    float64\n",
      "49    float64\n",
      "50    float64\n",
      "51    float64\n",
      "52    float64\n",
      "53    float64\n",
      "54    float64\n",
      "55    float64\n",
      "56    float64\n",
      "57    float64\n",
      "58    float64\n",
      "59    float64\n",
      "60    float64\n",
      "61    float64\n",
      "62    float64\n",
      "63    float64\n",
      "64      int64\n",
      "Length: 65, dtype: object\n"
     ]
    }
   ],
   "source": [
    "print df.dtypes\n",
    "df = df.apply(pd.to_numeric, errors = 'coerce')\n",
    "print df.dtypes"
   ]
  },
  {
   "cell_type": "code",
   "execution_count": 5,
   "metadata": {
    "collapsed": false
   },
   "outputs": [
    {
     "data": {
      "text/plain": [
       "0        3\n",
       "1        3\n",
       "2        3\n",
       "3       30\n",
       "4        8\n",
       "5        3\n",
       "6        3\n",
       "7       25\n",
       "8        1\n",
       "9        3\n",
       "10      39\n",
       "11      30\n",
       "12       0\n",
       "13       3\n",
       "14       2\n",
       "15      25\n",
       "16      25\n",
       "17       3\n",
       "18       0\n",
       "19       0\n",
       "20    1622\n",
       "21       3\n",
       "22       0\n",
       "23     124\n",
       "24       3\n",
       "25      25\n",
       "26     311\n",
       "27      34\n",
       "28       3\n",
       "29       0\n",
       "      ... \n",
       "35       3\n",
       "36    2740\n",
       "37       3\n",
       "38       0\n",
       "39      30\n",
       "40      84\n",
       "41       0\n",
       "42       0\n",
       "43       0\n",
       "44     134\n",
       "45      31\n",
       "46      29\n",
       "47       3\n",
       "48       0\n",
       "49      25\n",
       "50       3\n",
       "51      29\n",
       "52      34\n",
       "53      34\n",
       "54       0\n",
       "55       0\n",
       "56       1\n",
       "57       0\n",
       "58       1\n",
       "59     135\n",
       "60      22\n",
       "61       0\n",
       "62      30\n",
       "63      34\n",
       "64       0\n",
       "Length: 65, dtype: int64"
      ]
     },
     "execution_count": 5,
     "metadata": {},
     "output_type": "execute_result"
    }
   ],
   "source": [
    "df.isnull().sum()"
   ]
  },
  {
   "cell_type": "code",
   "execution_count": 6,
   "metadata": {
    "collapsed": false
   },
   "outputs": [
    {
     "data": {
      "text/plain": [
       "Int64Index([   1,    2,    3,    4,    5,    6,    7,    9,   10,   11,\n",
       "            ...\n",
       "            7015, 7016, 7017, 7018, 7020, 7021, 7022, 7023, 7024, 7026],\n",
       "           dtype='int64', length=3833)"
      ]
     },
     "execution_count": 6,
     "metadata": {},
     "output_type": "execute_result"
    }
   ],
   "source": [
    "# Count of all records containing missing data\n",
    "df[df.isnull().any(axis=1)].index"
   ]
  },
  {
   "cell_type": "code",
   "execution_count": 7,
   "metadata": {
    "collapsed": false
   },
   "outputs": [],
   "source": [
    "df.dropna(thresh=10, inplace=True)\n",
    "# Feature #20 and #36 have high number of missing values, hence drop them\n",
    "df = df.drop(20, axis=1)\n",
    "df = df.drop(36, axis=1)"
   ]
  },
  {
   "cell_type": "code",
   "execution_count": 8,
   "metadata": {
    "collapsed": false
   },
   "outputs": [
    {
     "name": "stdout",
     "output_type": "stream",
     "text": [
      "0       3\n",
      "1       3\n",
      "2       3\n",
      "3      30\n",
      "4       8\n",
      "5       3\n",
      "6       3\n",
      "7      25\n",
      "8       1\n",
      "9       3\n",
      "10      3\n",
      "11     30\n",
      "12      0\n",
      "13      3\n",
      "14      2\n",
      "15     25\n",
      "16     25\n",
      "17      3\n",
      "18      0\n",
      "19      0\n",
      "21      3\n",
      "22      0\n",
      "23    124\n",
      "24      3\n",
      "25     25\n",
      "26    191\n",
      "27     28\n",
      "28      3\n",
      "29      0\n",
      "30      0\n",
      "     ... \n",
      "34      3\n",
      "35      3\n",
      "37      3\n",
      "38      0\n",
      "39     30\n",
      "40     84\n",
      "41      0\n",
      "42      0\n",
      "43      0\n",
      "44    120\n",
      "45     30\n",
      "46     29\n",
      "47      3\n",
      "48      0\n",
      "49     25\n",
      "50      3\n",
      "51     29\n",
      "52     28\n",
      "53     28\n",
      "54      0\n",
      "55      0\n",
      "56      1\n",
      "57      0\n",
      "58      1\n",
      "59    121\n",
      "60     22\n",
      "61      0\n",
      "62     30\n",
      "63     28\n",
      "64      0\n",
      "Length: 63, dtype: int64\n"
     ]
    }
   ],
   "source": [
    "# Distribution of missing values in 'normal' instances\n",
    "df0 = df[df[64] == 0]\n",
    "print df0.isnull().sum()"
   ]
  },
  {
   "cell_type": "code",
   "execution_count": 9,
   "metadata": {
    "collapsed": false
   },
   "outputs": [
    {
     "name": "stdout",
     "output_type": "stream",
     "text": [
      "0       0\n",
      "1       0\n",
      "2       0\n",
      "3       0\n",
      "4       0\n",
      "5       0\n",
      "6       0\n",
      "7       0\n",
      "8       0\n",
      "9       0\n",
      "10     36\n",
      "11      0\n",
      "12      0\n",
      "13      0\n",
      "14      0\n",
      "15      0\n",
      "16      0\n",
      "17      0\n",
      "18      0\n",
      "19      0\n",
      "21      0\n",
      "22      0\n",
      "23      0\n",
      "24      0\n",
      "25      0\n",
      "26    120\n",
      "27      6\n",
      "28      0\n",
      "29      0\n",
      "30      0\n",
      "     ... \n",
      "34      0\n",
      "35      0\n",
      "37      0\n",
      "38      0\n",
      "39      0\n",
      "40      0\n",
      "41      0\n",
      "42      0\n",
      "43      0\n",
      "44     14\n",
      "45      1\n",
      "46      0\n",
      "47      0\n",
      "48      0\n",
      "49      0\n",
      "50      0\n",
      "51      0\n",
      "52      6\n",
      "53      6\n",
      "54      0\n",
      "55      0\n",
      "56      0\n",
      "57      0\n",
      "58      0\n",
      "59     14\n",
      "60      0\n",
      "61      0\n",
      "62      0\n",
      "63      6\n",
      "64      0\n",
      "Length: 63, dtype: int64\n"
     ]
    }
   ],
   "source": [
    "# Distribution of missing values in 'anomalous' instances\n",
    "df1 = df[df[64] == 1]\n",
    "print df1.isnull().sum()"
   ]
  },
  {
   "cell_type": "code",
   "execution_count": 10,
   "metadata": {
    "collapsed": false
   },
   "outputs": [
    {
     "name": "stdout",
     "output_type": "stream",
     "text": [
      "-0.0108074699294\n",
      "-0.00465029974183\n",
      "0.00269941187673\n",
      "-0.0024820410241\n"
     ]
    }
   ],
   "source": [
    "# Feature #23, #26, #44 and #59 have substantial missing values, if they are not significantly correlated with target value, drop them\n",
    "print df[23].corr(df[64])\n",
    "print df[26].corr(df[64])\n",
    "print df[44].corr(df[64])\n",
    "print df[59].corr(df[64])\n",
    "\n",
    "df = df.drop(23, axis=1)\n",
    "df = df.drop(26, axis=1)\n",
    "df = df.drop(44, axis=1)\n",
    "df = df.drop(59, axis=1)"
   ]
  },
  {
   "cell_type": "code",
   "execution_count": 11,
   "metadata": {
    "collapsed": false
   },
   "outputs": [
    {
     "data": {
      "text/plain": [
       "0      3\n",
       "1      3\n",
       "2      3\n",
       "3     30\n",
       "4      8\n",
       "5      3\n",
       "6      3\n",
       "7     25\n",
       "8      1\n",
       "9      3\n",
       "10    39\n",
       "11    30\n",
       "12     0\n",
       "13     3\n",
       "14     2\n",
       "15    25\n",
       "16    25\n",
       "17     3\n",
       "18     0\n",
       "19     0\n",
       "21     3\n",
       "22     0\n",
       "24     3\n",
       "25    25\n",
       "27    34\n",
       "28     3\n",
       "29     0\n",
       "30     0\n",
       "31    38\n",
       "32    30\n",
       "33    25\n",
       "34     3\n",
       "35     3\n",
       "37     3\n",
       "38     0\n",
       "39    30\n",
       "40    84\n",
       "41     0\n",
       "42     0\n",
       "43     0\n",
       "45    31\n",
       "46    29\n",
       "47     3\n",
       "48     0\n",
       "49    25\n",
       "50     3\n",
       "51    29\n",
       "52    34\n",
       "53    34\n",
       "54     0\n",
       "55     0\n",
       "56     1\n",
       "57     0\n",
       "58     1\n",
       "60    22\n",
       "61     0\n",
       "62    30\n",
       "63    34\n",
       "64     0\n",
       "dtype: int64"
      ]
     },
     "execution_count": 11,
     "metadata": {},
     "output_type": "execute_result"
    }
   ],
   "source": [
    "# Missing values column-wise\n",
    "df.isnull().sum()"
   ]
  },
  {
   "cell_type": "code",
   "execution_count": 12,
   "metadata": {
    "collapsed": true
   },
   "outputs": [],
   "source": [
    "# Impute with mean of column values\n",
    "df = df.fillna(df.mean())"
   ]
  },
  {
   "cell_type": "code",
   "execution_count": 13,
   "metadata": {
    "collapsed": false
   },
   "outputs": [],
   "source": [
    "# Rename columns\n",
    "df.columns = range(0,59)"
   ]
  },
  {
   "cell_type": "code",
   "execution_count": 14,
   "metadata": {
    "collapsed": false
   },
   "outputs": [
    {
     "data": {
      "text/plain": [
       "array([[  2.00550000e-01,   3.79510000e-01,   3.96410000e-01, ...,\n",
       "          8.26580000e+01,   4.41580000e+00,   7.42770000e+00],\n",
       "       [  2.09120000e-01,   4.99880000e-01,   4.72250000e-01, ...,\n",
       "          1.07350000e+02,   3.40000000e+00,   6.09870000e+01],\n",
       "       [  2.48660000e-01,   6.95920000e-01,   2.67130000e-01, ...,\n",
       "          1.34270000e+02,   2.71850000e+00,   5.20780000e+00],\n",
       "       ..., \n",
       "       [  6.33800000e-03,   5.02760000e-01,   4.39230000e-01, ...,\n",
       "          5.10190000e+01,   7.15420000e+00,   6.20010000e+01],\n",
       "       [ -4.16430000e-02,   8.48100000e-01,  -1.28520000e-01, ...,\n",
       "          2.61850000e+02,   1.39390000e+00,   5.10050000e-01],\n",
       "       [  1.49460000e-02,   9.46480000e-01,   3.21100000e-02, ...,\n",
       "          1.08640000e+02,   3.35990000e+00,   3.51180000e+01]])"
      ]
     },
     "execution_count": 14,
     "metadata": {},
     "output_type": "execute_result"
    }
   ],
   "source": [
    "X = df.iloc[:, 0:58].values\n",
    "X"
   ]
  },
  {
   "cell_type": "code",
   "execution_count": 15,
   "metadata": {
    "collapsed": false
   },
   "outputs": [
    {
     "data": {
      "text/plain": [
       "array([0, 0, 0, ..., 1, 1, 1], dtype=int64)"
      ]
     },
     "execution_count": 15,
     "metadata": {},
     "output_type": "execute_result"
    }
   ],
   "source": [
    "y = df.iloc[:, 58:59].values\n",
    "y = y.ravel()\n",
    "y"
   ]
  },
  {
   "cell_type": "code",
   "execution_count": 16,
   "metadata": {
    "collapsed": false
   },
   "outputs": [
    {
     "data": {
      "text/plain": [
       "array([0, 0, 0, ..., 0, 0, 0], dtype=int64)"
      ]
     },
     "execution_count": 16,
     "metadata": {},
     "output_type": "execute_result"
    }
   ],
   "source": [
    "# All normal instances\n",
    "y[:6756]"
   ]
  },
  {
   "cell_type": "code",
   "execution_count": 17,
   "metadata": {
    "collapsed": false
   },
   "outputs": [
    {
     "data": {
      "text/plain": [
       "array([1, 1, 1, 1, 1, 1, 1, 1, 1, 1, 1, 1, 1, 1, 1, 1, 1, 1, 1, 1, 1, 1, 1,\n",
       "       1, 1, 1, 1, 1, 1, 1, 1, 1, 1, 1, 1, 1, 1, 1, 1, 1, 1, 1, 1, 1, 1, 1,\n",
       "       1, 1, 1, 1, 1, 1, 1, 1, 1, 1, 1, 1, 1, 1, 1, 1, 1, 1, 1, 1, 1, 1, 1,\n",
       "       1, 1, 1, 1, 1, 1, 1, 1, 1, 1, 1, 1, 1, 1, 1, 1, 1, 1, 1, 1, 1, 1, 1,\n",
       "       1, 1, 1, 1, 1, 1, 1, 1, 1, 1, 1, 1, 1, 1, 1, 1, 1, 1, 1, 1, 1, 1, 1,\n",
       "       1, 1, 1, 1, 1, 1, 1, 1, 1, 1, 1, 1, 1, 1, 1, 1, 1, 1, 1, 1, 1, 1, 1,\n",
       "       1, 1, 1, 1, 1, 1, 1, 1, 1, 1, 1, 1, 1, 1, 1, 1, 1, 1, 1, 1, 1, 1, 1,\n",
       "       1, 1, 1, 1, 1, 1, 1, 1, 1, 1, 1, 1, 1, 1, 1, 1, 1, 1, 1, 1, 1, 1, 1,\n",
       "       1, 1, 1, 1, 1, 1, 1, 1, 1, 1, 1, 1, 1, 1, 1, 1, 1, 1, 1, 1, 1, 1, 1,\n",
       "       1, 1, 1, 1, 1, 1, 1, 1, 1, 1, 1, 1, 1, 1, 1, 1, 1, 1, 1, 1, 1, 1, 1,\n",
       "       1, 1, 1, 1, 1, 1, 1, 1, 1, 1, 1, 1, 1, 1, 1, 1, 1, 1, 1, 1, 1, 1, 1,\n",
       "       1, 1, 1, 1, 1, 1, 1, 1, 1, 1, 1, 1, 1, 1, 1, 1, 1, 1], dtype=int64)"
      ]
     },
     "execution_count": 17,
     "metadata": {},
     "output_type": "execute_result"
    }
   ],
   "source": [
    "# All anomalous instances\n",
    "y[6756:]"
   ]
  },
  {
   "cell_type": "markdown",
   "metadata": {},
   "source": [
    "## Exploratory Data Analysis"
   ]
  },
  {
   "cell_type": "markdown",
   "metadata": {},
   "source": [
    "NEAREST NEIGHBOR BASED ANOMALY DETECTION TECHNIQUES  \n",
    "* Assumption: Normal data instances occur in dense neighborhoods, while anomalies occur far from their closest neighbors. \n",
    "\n",
    "\n",
    "CLUSTERING BASED ANOMALY DETECTION TECHNIQUES  \n",
    "* Assumption: Normal data instances belong to a cluster in the data, while anomalies either do not belong to any cluster. E.g. DBSCAN  \n",
    "\n",
    "* Assumption: Normal data instances lie close to their closest cluster centroid, while anomalies are far away from their closest cluster centroid. E.g. K-Means and EM  \n",
    "\n",
    "* Assumption: Normal data instances belong to large and dense clusters, while anomalies either belong to small or sparse clusters. E.g. LOF"
   ]
  },
  {
   "cell_type": "code",
   "execution_count": 18,
   "metadata": {
    "collapsed": false
   },
   "outputs": [
    {
     "name": "stdout",
     "output_type": "stream",
     "text": [
      "[ 0.94469568  0.02275285]\n"
     ]
    }
   ],
   "source": [
    "# Without Standardizing, perform PCA\n",
    "from sklearn.decomposition import PCA\n",
    "pca = PCA(n_components=2)\n",
    "X_pca = pca.fit_transform(X)\n",
    "print(pca.explained_variance_ratio_) \n"
   ]
  },
  {
   "cell_type": "code",
   "execution_count": 19,
   "metadata": {
    "collapsed": true
   },
   "outputs": [],
   "source": [
    "x1_pca1 = X_pca[:6756,0:1].ravel()\n",
    "x1_pca2 = X_pca[:6756,1:2].ravel()\n",
    "x2_pca1 = X_pca[6756:,0:1].ravel()\n",
    "x2_pca2 = X_pca[6756:,1:2].ravel()"
   ]
  },
  {
   "cell_type": "code",
   "execution_count": 20,
   "metadata": {
    "collapsed": false
   },
   "outputs": [
    {
     "data": {
      "image/png": "[encoded data removed]",
      "text/plain": [
       "<matplotlib.figure.Figure at 0xeead198>"
      ]
     },
     "metadata": {},
     "output_type": "display_data"
    }
   ],
   "source": [
    "plt.figure(figsize=(20,10))\n",
    "plt.scatter(x1_pca1,x1_pca2,color='b',label='Normal')\n",
    "plt.xlabel('PCA1')\n",
    "plt.ylabel('PCA2')\n",
    "plt.legend()\n",
    "plt.show()"
   ]
  },
  {
   "cell_type": "code",
   "execution_count": 21,
   "metadata": {
    "collapsed": false
   },
   "outputs": [
    {
     "data": {
      "image/png": "[encoded data removed]",
      "text/plain": [
       "<matplotlib.figure.Figure at 0xeeff7b8>"
      ]
     },
     "metadata": {},
     "output_type": "display_data"
    }
   ],
   "source": [
    "plt.figure(figsize=(20,10))\n",
    "plt.scatter(x2_pca1,x2_pca2,color='r',label='Anomaly')\n",
    "plt.xlabel('PCA1')\n",
    "plt.ylabel('PCA2')\n",
    "plt.legend()\n",
    "plt.show()"
   ]
  },
  {
   "cell_type": "code",
   "execution_count": 22,
   "metadata": {
    "collapsed": false
   },
   "outputs": [
    {
     "data": {
      "image/png": "[encoded data removed]",
      "text/plain": [
       "<matplotlib.figure.Figure at 0xee93a90>"
      ]
     },
     "metadata": {},
     "output_type": "display_data"
    }
   ],
   "source": [
    "plt.figure(figsize=(20,10))\n",
    "plt.scatter(x1_pca1,x1_pca2,color='b',label='Normal')\n",
    "plt.scatter(x2_pca1,x2_pca2,color='r',label='Anomaly')\n",
    "plt.xlabel('PCA1')\n",
    "plt.ylabel('PCA2')\n",
    "plt.legend()\n",
    "plt.show()"
   ]
  },
  {
   "cell_type": "code",
   "execution_count": 23,
   "metadata": {
    "collapsed": true
   },
   "outputs": [],
   "source": [
    "# Standardize and then perform PCA\n",
    "from sklearn.preprocessing import StandardScaler\n",
    "\n",
    "stdsc = StandardScaler()\n",
    "X = stdsc.fit_transform(X)"
   ]
  },
  {
   "cell_type": "code",
   "execution_count": 24,
   "metadata": {
    "collapsed": false
   },
   "outputs": [
    {
     "name": "stdout",
     "output_type": "stream",
     "text": [
      "[ 0.22570329  0.14363939]\n"
     ]
    }
   ],
   "source": [
    "from sklearn.decomposition import PCA\n",
    "pca = PCA(n_components=2)\n",
    "X_pca = pca.fit_transform(X)\n",
    "print(pca.explained_variance_ratio_) "
   ]
  },
  {
   "cell_type": "code",
   "execution_count": 25,
   "metadata": {
    "collapsed": true
   },
   "outputs": [],
   "source": [
    "x1_pca1 = X_pca[:6756,0:1].ravel()\n",
    "x1_pca2 = X_pca[:6756,1:2].ravel()\n",
    "x2_pca1 = X_pca[6756:,0:1].ravel()\n",
    "x2_pca2 = X_pca[6756:,1:2].ravel()"
   ]
  },
  {
   "cell_type": "code",
   "execution_count": 26,
   "metadata": {
    "collapsed": false
   },
   "outputs": [
    {
     "data": {
      "image/png": "[encoded data removed]",
      "text/plain": [
       "<matplotlib.figure.Figure at 0xf2c45f8>"
      ]
     },
     "metadata": {},
     "output_type": "display_data"
    }
   ],
   "source": [
    "plt.figure(figsize=(20,10))\n",
    "plt.scatter(x1_pca1,x1_pca2,color='b',label='Normal')\n",
    "plt.xlabel('PCA1')\n",
    "plt.ylabel('PCA2')\n",
    "plt.legend()\n",
    "plt.show()"
   ]
  },
  {
   "cell_type": "code",
   "execution_count": 27,
   "metadata": {
    "collapsed": false
   },
   "outputs": [
    {
     "data": {
      "image/png": "[encoded data removed]",
      "text/plain": [
       "<matplotlib.figure.Figure at 0xf0cf7b8>"
      ]
     },
     "metadata": {},
     "output_type": "display_data"
    }
   ],
   "source": [
    "plt.figure(figsize=(20,10))\n",
    "plt.scatter(x2_pca1,x2_pca2,color='r',label='Anomaly')\n",
    "plt.xlabel('PCA1')\n",
    "plt.ylabel('PCA2')\n",
    "plt.legend()\n",
    "plt.show()"
   ]
  },
  {
   "cell_type": "code",
   "execution_count": 28,
   "metadata": {
    "collapsed": false
   },
   "outputs": [
    {
     "data": {
      "image/png": "[encoded data removed]",
      "text/plain": [
       "<matplotlib.figure.Figure at 0xeacd128>"
      ]
     },
     "metadata": {},
     "output_type": "display_data"
    }
   ],
   "source": [
    "plt.figure(figsize=(20,10))\n",
    "plt.scatter(x1_pca1,x1_pca2,color='b',label='Normal')\n",
    "plt.scatter(x2_pca1,x2_pca2,color='r',label='Anomaly')\n",
    "plt.xlabel('PCA1')\n",
    "plt.ylabel('PCA2')\n",
    "plt.legend()\n",
    "plt.show()"
   ]
  },
  {
   "cell_type": "markdown",
   "metadata": {},
   "source": [
    "From the above exploration of data, we can infer that:  \n",
    "\n",
    "* Centroid-based clustering won't work as anomalous instances do not form a 'spherical' cluster\n",
    "* Density-based clustering might work as anomalous instances form clusters of arbitrary shape. However, it might not be the best way of identifying outliers as normal and anomalous instances densities overlap considerably.\n",
    "* OneClassSVM, a semi-supervised technique, may be a better alternative, as it is immune to distribution of data"
   ]
  },
  {
   "cell_type": "markdown",
   "metadata": {},
   "source": [
    "## DBSCAN"
   ]
  },
  {
   "cell_type": "code",
   "execution_count": 29,
   "metadata": {
    "collapsed": true
   },
   "outputs": [],
   "source": [
    "from sklearn.cluster import DBSCAN\n",
    "\n",
    "db = DBSCAN(eps=0.35, min_samples=500).fit(X)\n",
    "pred_labels = db.labels_\n",
    "true_labels = y"
   ]
  },
  {
   "cell_type": "code",
   "execution_count": 30,
   "metadata": {
    "collapsed": false
   },
   "outputs": [
    {
     "data": {
      "text/plain": [
       "1"
      ]
     },
     "execution_count": 30,
     "metadata": {},
     "output_type": "execute_result"
    }
   ],
   "source": [
    "n_clusters_ = len(set(pred_labels)) - (1 if -1 in pred_labels else 0)\n",
    "n_clusters_"
   ]
  },
  {
   "cell_type": "code",
   "execution_count": 31,
   "metadata": {
    "collapsed": false
   },
   "outputs": [
    {
     "name": "stdout",
     "output_type": "stream",
     "text": [
      "2\n",
      "set([0, -1])\n",
      "(7027L,)\n",
      "(array([-1,  0], dtype=int64), array([4389, 2638], dtype=int64))\n"
     ]
    }
   ],
   "source": [
    "print len(set(pred_labels))\n",
    "print set(pred_labels)\n",
    "print pred_labels.shape\n",
    "print np.unique(pred_labels, return_counts=True)"
   ]
  },
  {
   "cell_type": "code",
   "execution_count": 32,
   "metadata": {
    "collapsed": false
   },
   "outputs": [
    {
     "name": "stdout",
     "output_type": "stream",
     "text": [
      "set([0, 1])\n",
      "(7027L,)\n",
      "(array([0, 1], dtype=int64), array([2638, 4389], dtype=int64))\n"
     ]
    }
   ],
   "source": [
    "pred_labels[pred_labels != 0] = 1\n",
    "\n",
    "print set(pred_labels)\n",
    "print pred_labels.shape\n",
    "print np.unique(pred_labels, return_counts=True)"
   ]
  },
  {
   "cell_type": "code",
   "execution_count": 33,
   "metadata": {
    "collapsed": false
   },
   "outputs": [
    {
     "name": "stdout",
     "output_type": "stream",
     "text": [
      "set([0, 1])\n",
      "2\n",
      "(7027L,)\n",
      "(array([0, 1], dtype=int64), array([6756,  271], dtype=int64))\n"
     ]
    }
   ],
   "source": [
    "print set(true_labels)\n",
    "print len(set(true_labels))\n",
    "print true_labels.shape\n",
    "print np.unique(true_labels, return_counts=True)"
   ]
  },
  {
   "cell_type": "code",
   "execution_count": 34,
   "metadata": {
    "collapsed": false
   },
   "outputs": [
    {
     "name": "stdout",
     "output_type": "stream",
     "text": [
      "Accuracy =  0.381528390494\n",
      "Precision =  0.0357712462976\n",
      "Recall =  0.579335793358\n",
      "F1 score =  0.0673819742489\n",
      "Confusion Matrix = \n",
      "[[2524 4232]\n",
      " [ 114  157]]\n"
     ]
    }
   ],
   "source": [
    "from sklearn.metrics import accuracy_score, precision_score, recall_score, confusion_matrix, f1_score\n",
    "print \"Accuracy = \", accuracy_score(true_labels, pred_labels)\n",
    "print \"Precision = \", precision_score(true_labels, pred_labels)\n",
    "print \"Recall = \", recall_score(true_labels, pred_labels)\n",
    "print \"F1 score = \", f1_score(true_labels, pred_labels)\n",
    "print \"Confusion Matrix = \\n\", confusion_matrix(true_labels, pred_labels)\n",
    "\n",
    "# Note the true positive metric "
   ]
  },
  {
   "cell_type": "code",
   "execution_count": 35,
   "metadata": {
    "collapsed": false
   },
   "outputs": [
    {
     "name": "stdout",
     "output_type": "stream",
     "text": [
      "Area Under Curve: 0.32\n"
     ]
    },
    {
     "data": {
      "image/png": "[encoded data removed]",
      "text/plain": [
       "<matplotlib.figure.Figure at 0xef83c18>"
      ]
     },
     "metadata": {},
     "output_type": "display_data"
    }
   ],
   "source": [
    "from sklearn.metrics import precision_recall_curve, auc\n",
    "precision, recall, thresholds = precision_recall_curve(true_labels, pred_labels)\n",
    "area = auc(recall, precision)\n",
    "print \"Area Under Curve: %0.2f\" % area\n",
    "\n",
    "plt.plot(recall, precision)\n",
    "plt.xlabel('Recall')\n",
    "plt.ylabel('Precision')\n",
    "plt.show()"
   ]
  },
  {
   "cell_type": "markdown",
   "metadata": {
    "collapsed": true
   },
   "source": [
    "## OneClassSVM"
   ]
  },
  {
   "cell_type": "markdown",
   "metadata": {},
   "source": [
    "For oneclassSVM, we need a training set that contains only the \"normal\" class"
   ]
  },
  {
   "cell_type": "code",
   "execution_count": 36,
   "metadata": {
    "collapsed": false
   },
   "outputs": [],
   "source": [
    "X_train = X[:6500,:]\n",
    "y_train = y[:6500]\n",
    "X_test = X[6500: , :]\n",
    "y_test = y[6500:]"
   ]
  },
  {
   "cell_type": "markdown",
   "metadata": {},
   "source": [
    "### Train"
   ]
  },
  {
   "cell_type": "code",
   "execution_count": 37,
   "metadata": {
    "collapsed": true
   },
   "outputs": [],
   "source": [
    "from sklearn.svm import OneClassSVM\n",
    "ocsvm = OneClassSVM(nu=0.01, kernel=\"poly\")\n",
    "ocsvm.fit(X_train)\n",
    "pred_labels = ocsvm.predict(X_train)\n",
    "true_labels = y_train"
   ]
  },
  {
   "cell_type": "code",
   "execution_count": 38,
   "metadata": {
    "collapsed": false
   },
   "outputs": [
    {
     "data": {
      "text/plain": [
       "(array([-1.,  1.]), array([6234,  266], dtype=int64))"
      ]
     },
     "execution_count": 38,
     "metadata": {},
     "output_type": "execute_result"
    }
   ],
   "source": [
    "np.unique(pred_labels, return_counts=True)"
   ]
  },
  {
   "cell_type": "code",
   "execution_count": 39,
   "metadata": {
    "collapsed": false
   },
   "outputs": [
    {
     "name": "stdout",
     "output_type": "stream",
     "text": [
      "set([1.0, -1.0])\n"
     ]
    }
   ],
   "source": [
    "print set(pred_labels)"
   ]
  },
  {
   "cell_type": "code",
   "execution_count": 40,
   "metadata": {
    "collapsed": true
   },
   "outputs": [],
   "source": [
    "pred_labels[pred_labels == 1] = 0\n",
    "pred_labels[pred_labels == -1] = 1"
   ]
  },
  {
   "cell_type": "code",
   "execution_count": 41,
   "metadata": {
    "collapsed": false
   },
   "outputs": [
    {
     "name": "stdout",
     "output_type": "stream",
     "text": [
      "set([0.0, 1.0])\n"
     ]
    }
   ],
   "source": [
    "print set(pred_labels)"
   ]
  },
  {
   "cell_type": "code",
   "execution_count": 42,
   "metadata": {
    "collapsed": false
   },
   "outputs": [
    {
     "data": {
      "text/plain": [
       "(array([ 0.,  1.]), array([ 266, 6234], dtype=int64))"
      ]
     },
     "execution_count": 42,
     "metadata": {},
     "output_type": "execute_result"
    }
   ],
   "source": [
    "np.unique(pred_labels, return_counts=True)"
   ]
  },
  {
   "cell_type": "code",
   "execution_count": 43,
   "metadata": {
    "collapsed": false
   },
   "outputs": [
    {
     "data": {
      "text/plain": [
       "(array([0], dtype=int64), array([6500], dtype=int64))"
      ]
     },
     "execution_count": 43,
     "metadata": {},
     "output_type": "execute_result"
    }
   ],
   "source": [
    "np.unique(true_labels, return_counts=True)"
   ]
  },
  {
   "cell_type": "markdown",
   "metadata": {},
   "source": [
    "### Test"
   ]
  },
  {
   "cell_type": "code",
   "execution_count": 44,
   "metadata": {
    "collapsed": false
   },
   "outputs": [],
   "source": [
    "pred_labels = ocsvm.predict(X_test)\n",
    "true_labels = y_test"
   ]
  },
  {
   "cell_type": "code",
   "execution_count": 45,
   "metadata": {
    "collapsed": false
   },
   "outputs": [
    {
     "data": {
      "text/plain": [
       "(array([-1.,  1.]), array([504,  23], dtype=int64))"
      ]
     },
     "execution_count": 45,
     "metadata": {},
     "output_type": "execute_result"
    }
   ],
   "source": [
    "np.unique(pred_labels, return_counts=True)"
   ]
  },
  {
   "cell_type": "code",
   "execution_count": 46,
   "metadata": {
    "collapsed": true
   },
   "outputs": [],
   "source": [
    "pred_labels[pred_labels == 1] = 0\n",
    "pred_labels[pred_labels == -1] = 1"
   ]
  },
  {
   "cell_type": "code",
   "execution_count": 47,
   "metadata": {
    "collapsed": false
   },
   "outputs": [
    {
     "name": "stdout",
     "output_type": "stream",
     "text": [
      "set([0.0, 1.0])\n"
     ]
    }
   ],
   "source": [
    "print set(pred_labels)"
   ]
  },
  {
   "cell_type": "code",
   "execution_count": 48,
   "metadata": {
    "collapsed": false
   },
   "outputs": [
    {
     "data": {
      "text/plain": [
       "(array([ 0.,  1.]), array([ 23, 504], dtype=int64))"
      ]
     },
     "execution_count": 48,
     "metadata": {},
     "output_type": "execute_result"
    }
   ],
   "source": [
    "np.unique(pred_labels, return_counts=True)"
   ]
  },
  {
   "cell_type": "code",
   "execution_count": 49,
   "metadata": {
    "collapsed": false
   },
   "outputs": [
    {
     "data": {
      "text/plain": [
       "(array([0, 1], dtype=int64), array([256, 271], dtype=int64))"
      ]
     },
     "execution_count": 49,
     "metadata": {},
     "output_type": "execute_result"
    }
   ],
   "source": [
    "np.unique(true_labels, return_counts=True)"
   ]
  },
  {
   "cell_type": "code",
   "execution_count": 50,
   "metadata": {
    "collapsed": false
   },
   "outputs": [
    {
     "name": "stdout",
     "output_type": "stream",
     "text": [
      "Accuracy =  0.519924098672\n",
      "Precision =  0.517857142857\n",
      "Recall =  0.963099630996\n",
      "Confusion Matrix = \n",
      "[[ 13 243]\n",
      " [ 10 261]]\n"
     ]
    }
   ],
   "source": [
    "from sklearn.metrics import accuracy_score, precision_score, recall_score, confusion_matrix\n",
    "print \"Accuracy = \", accuracy_score(true_labels, pred_labels)\n",
    "print \"Precision = \", precision_score(true_labels, pred_labels)\n",
    "print \"Recall = \", recall_score(true_labels, pred_labels)\n",
    "print \"Confusion Matrix = \\n\", confusion_matrix(true_labels, pred_labels)\n",
    "\n",
    "# Note the true positive metric "
   ]
  },
  {
   "cell_type": "code",
   "execution_count": 51,
   "metadata": {
    "collapsed": false
   },
   "outputs": [
    {
     "name": "stdout",
     "output_type": "stream",
     "text": [
      "Area Under Curve: 0.75\n"
     ]
    },
    {
     "data": {
      "image/png": "[encoded data removed]",
      "text/plain": [
       "<matplotlib.figure.Figure at 0xead8358>"
      ]
     },
     "metadata": {},
     "output_type": "display_data"
    }
   ],
   "source": [
    "from sklearn.metrics import precision_recall_curve, auc\n",
    "precision, recall, thresholds = precision_recall_curve(true_labels, pred_labels)\n",
    "area = auc(recall, precision)\n",
    "print \"Area Under Curve: %0.2f\" % area\n",
    "plt.plot(recall, precision)\n",
    "plt.xlabel('Recall')\n",
    "plt.ylabel('Precision')\n",
    "plt.show()"
   ]
  }
 ],
 "metadata": {
  "anaconda-cloud": {},
  "kernelspec": {
   "display_name": "Python [conda root]",
   "language": "python",
   "name": "conda-root-py"
  },
  "language_info": {
   "codemirror_mode": {
    "name": "ipython",
    "version": 2
   },
   "file_extension": ".py",
   "mimetype": "text/x-python",
   "name": "python",
   "nbconvert_exporter": "python",
   "pygments_lexer": "ipython2",
   "version": "2.7.12"
  }
 },
 "nbformat": 4,
 "nbformat_minor": 1
}
